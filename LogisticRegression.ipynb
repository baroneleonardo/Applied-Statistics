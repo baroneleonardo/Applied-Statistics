{
 "cells": [
  {
   "cell_type": "code",
   "execution_count": 9,
   "metadata": {},
   "outputs": [],
   "source": [
    "import numpy as np\n",
    "import pandas as pd\n",
    "import matplotlib.pyplot as plt\n",
    "from sklearn.preprocessing import StandardScaler\n",
    "from sklearn import preprocessing\n",
    "from sklearn.model_selection import train_test_split\n",
    "import seaborn as sns\n",
    "from scipy import stats\n",
    "from sklearn.model_selection import GridSearchCV\n",
    "from sklearn.svm import SVC\n",
    "from sklearn.metrics import accuracy_score, precision_score, recall_score, f1_score, confusion_matrix\n",
    "from sklearn.linear_model import LogisticRegression\n",
    "seed=42"
   ]
  },
  {
   "cell_type": "code",
   "execution_count": 10,
   "metadata": {},
   "outputs": [],
   "source": [
    "data = pd.read_csv(\"DataGood.csv\")\n",
    "data = data.drop(['NB1'], axis = 1)\n",
    "data = data.drop(['NB2'], axis = 1)\n",
    "data = data.drop(['CLIENTNUM'], axis = 1)"
   ]
  },
  {
   "cell_type": "code",
   "execution_count": 11,
   "metadata": {},
   "outputs": [],
   "source": [
    "x = data.drop(['Attrition_Flag'], axis = 1)\n",
    "y = pd.DataFrame(data['Attrition_Flag'])\n",
    "\n",
    "categorical_columns = ['Gender', 'Education_Level', 'Marital_Status', 'Income_Category', 'Card_Category']\n",
    "x_encoded = pd.get_dummies(x, columns=categorical_columns)\n"
   ]
  },
  {
   "cell_type": "code",
   "execution_count": 12,
   "metadata": {},
   "outputs": [],
   "source": [
    "x_train, x_test, y_train, y_test = train_test_split(x_encoded, y, test_size=0.2, random_state=seed, shuffle=True)\n",
    "\n",
    "x_train, x_val, y_train, y_val = train_test_split(x_train, y_train, test_size=0.15, random_state=seed, shuffle=True)"
   ]
  },
  {
   "cell_type": "code",
   "execution_count": 13,
   "metadata": {},
   "outputs": [
    {
     "name": "stdout",
     "output_type": "stream",
     "text": [
      "Accuracy: 0.89\n",
      "Confusion Matrix:\n",
      "[[527  22]\n",
      " [ 53  69]]\n"
     ]
    },
    {
     "name": "stderr",
     "output_type": "stream",
     "text": [
      "C:\\Users\\Leonardo\\AppData\\Local\\Packages\\PythonSoftwareFoundation.Python.3.11_qbz5n2kfra8p0\\LocalCache\\local-packages\\Python311\\site-packages\\sklearn\\utils\\validation.py:1143: DataConversionWarning: A column-vector y was passed when a 1d array was expected. Please change the shape of y to (n_samples, ), for example using ravel().\n",
      "  y = column_or_1d(y, warn=True)\n"
     ]
    }
   ],
   "source": [
    "clf = LogisticRegression()\n",
    "scaler = StandardScaler()\n",
    "\n",
    "x_train_scaled = scaler.fit_transform(x_train)\n",
    "clf.fit(x_train_scaled, y_train)\n",
    "\n",
    "x_val_scaled = scaler.transform(x_val)\n",
    "y_hat = clf.predict(x_val_scaled)\n",
    "\n",
    "accuracy = accuracy_score(y_val, y_hat)\n",
    "confusion = confusion_matrix(y_val, y_hat)\n",
    "\n",
    "print(f'Accuracy: {accuracy:.2f}')\n",
    "print('Confusion Matrix:')\n",
    "print(confusion)"
   ]
  },
  {
   "cell_type": "code",
   "execution_count": 14,
   "metadata": {},
   "outputs": [
    {
     "name": "stderr",
     "output_type": "stream",
     "text": [
      "C:\\Users\\Leonardo\\AppData\\Local\\Packages\\PythonSoftwareFoundation.Python.3.11_qbz5n2kfra8p0\\LocalCache\\local-packages\\Python311\\site-packages\\sklearn\\utils\\validation.py:1143: DataConversionWarning: A column-vector y was passed when a 1d array was expected. Please change the shape of y to (n_samples, ), for example using ravel().\n",
      "  y = column_or_1d(y, warn=True)\n",
      "C:\\Users\\Leonardo\\AppData\\Local\\Packages\\PythonSoftwareFoundation.Python.3.11_qbz5n2kfra8p0\\LocalCache\\local-packages\\Python311\\site-packages\\sklearn\\utils\\validation.py:1143: DataConversionWarning: A column-vector y was passed when a 1d array was expected. Please change the shape of y to (n_samples, ), for example using ravel().\n",
      "  y = column_or_1d(y, warn=True)\n",
      "C:\\Users\\Leonardo\\AppData\\Local\\Packages\\PythonSoftwareFoundation.Python.3.11_qbz5n2kfra8p0\\LocalCache\\local-packages\\Python311\\site-packages\\sklearn\\utils\\validation.py:1143: DataConversionWarning: A column-vector y was passed when a 1d array was expected. Please change the shape of y to (n_samples, ), for example using ravel().\n",
      "  y = column_or_1d(y, warn=True)\n",
      "C:\\Users\\Leonardo\\AppData\\Local\\Packages\\PythonSoftwareFoundation.Python.3.11_qbz5n2kfra8p0\\LocalCache\\local-packages\\Python311\\site-packages\\sklearn\\utils\\validation.py:1143: DataConversionWarning: A column-vector y was passed when a 1d array was expected. Please change the shape of y to (n_samples, ), for example using ravel().\n",
      "  y = column_or_1d(y, warn=True)\n",
      "C:\\Users\\Leonardo\\AppData\\Local\\Packages\\PythonSoftwareFoundation.Python.3.11_qbz5n2kfra8p0\\LocalCache\\local-packages\\Python311\\site-packages\\sklearn\\utils\\validation.py:1143: DataConversionWarning: A column-vector y was passed when a 1d array was expected. Please change the shape of y to (n_samples, ), for example using ravel().\n",
      "  y = column_or_1d(y, warn=True)\n",
      "C:\\Users\\Leonardo\\AppData\\Local\\Packages\\PythonSoftwareFoundation.Python.3.11_qbz5n2kfra8p0\\LocalCache\\local-packages\\Python311\\site-packages\\sklearn\\utils\\validation.py:1143: DataConversionWarning: A column-vector y was passed when a 1d array was expected. Please change the shape of y to (n_samples, ), for example using ravel().\n",
      "  y = column_or_1d(y, warn=True)\n"
     ]
    },
    {
     "name": "stdout",
     "output_type": "stream",
     "text": [
      "C=0.001, accuracy=0.8256333830104322, precision=0.8571428571428571, recall=0.04918032786885246, f1=0.0930232558139535\n",
      "C=0.004641588833612777, accuracy=0.8763040238450075, precision=0.9148936170212766, recall=0.3524590163934426, f1=0.5088757396449705\n",
      "C=0.021544346900318832, accuracy=0.886736214605067, precision=0.8285714285714286, recall=0.47540983606557374, f1=0.6041666666666667\n",
      "C=0.1, accuracy=0.8912071535022354, precision=0.788235294117647, recall=0.5491803278688525, f1=0.6473429951690821\n",
      "C=0.46415888336127775, accuracy=0.8926974664679582, precision=0.7906976744186046, recall=0.5573770491803278, f1=0.6538461538461539\n",
      "C=2.154434690031882, accuracy=0.8882265275707899, precision=0.7582417582417582, recall=0.5655737704918032, f1=0.6478873239436619\n",
      "C=10.0, accuracy=0.8882265275707899, precision=0.7582417582417582, recall=0.5655737704918032, f1=0.6478873239436619\n",
      "C=46.41588833612773, accuracy=0.8882265275707899, precision=0.7582417582417582, recall=0.5655737704918032, f1=0.6478873239436619\n",
      "C=215.44346900318823, accuracy=0.8882265275707899, precision=0.7582417582417582, recall=0.5655737704918032, f1=0.6478873239436619\n",
      "C=1000.0, accuracy=0.8882265275707899, precision=0.7582417582417582, recall=0.5655737704918032, f1=0.6478873239436619\n"
     ]
    },
    {
     "name": "stderr",
     "output_type": "stream",
     "text": [
      "C:\\Users\\Leonardo\\AppData\\Local\\Packages\\PythonSoftwareFoundation.Python.3.11_qbz5n2kfra8p0\\LocalCache\\local-packages\\Python311\\site-packages\\sklearn\\utils\\validation.py:1143: DataConversionWarning: A column-vector y was passed when a 1d array was expected. Please change the shape of y to (n_samples, ), for example using ravel().\n",
      "  y = column_or_1d(y, warn=True)\n",
      "C:\\Users\\Leonardo\\AppData\\Local\\Packages\\PythonSoftwareFoundation.Python.3.11_qbz5n2kfra8p0\\LocalCache\\local-packages\\Python311\\site-packages\\sklearn\\utils\\validation.py:1143: DataConversionWarning: A column-vector y was passed when a 1d array was expected. Please change the shape of y to (n_samples, ), for example using ravel().\n",
      "  y = column_or_1d(y, warn=True)\n",
      "C:\\Users\\Leonardo\\AppData\\Local\\Packages\\PythonSoftwareFoundation.Python.3.11_qbz5n2kfra8p0\\LocalCache\\local-packages\\Python311\\site-packages\\sklearn\\utils\\validation.py:1143: DataConversionWarning: A column-vector y was passed when a 1d array was expected. Please change the shape of y to (n_samples, ), for example using ravel().\n",
      "  y = column_or_1d(y, warn=True)\n",
      "C:\\Users\\Leonardo\\AppData\\Local\\Packages\\PythonSoftwareFoundation.Python.3.11_qbz5n2kfra8p0\\LocalCache\\local-packages\\Python311\\site-packages\\sklearn\\utils\\validation.py:1143: DataConversionWarning: A column-vector y was passed when a 1d array was expected. Please change the shape of y to (n_samples, ), for example using ravel().\n",
      "  y = column_or_1d(y, warn=True)\n"
     ]
    }
   ],
   "source": [
    "res = []\n",
    "\n",
    "for C in np.logspace(start=-3, stop=3, num=10, base=10, endpoint=True):\n",
    "    clf = LogisticRegression(C=C)\n",
    "    scaler = StandardScaler()\n",
    "\n",
    "    x_train_scaled = scaler.fit_transform(x_train)\n",
    "    clf.fit(x_train_scaled, y_train)\n",
    "\n",
    "    x_val_scaled = scaler.transform(x_val)\n",
    "    y_hat = clf.predict(x_val_scaled)\n",
    "\n",
    "    accuracy = accuracy_score(y_val, y_hat)\n",
    "    precision = precision_score(y_val, y_hat)\n",
    "    recall = recall_score(y_val, y_hat)\n",
    "    f1 = f1_score(y_val, y_hat)\n",
    "\n",
    "    print(f'{C=}, {accuracy=}, {precision=}, {recall=}, {f1=}')\n",
    "    res.append({\n",
    "        'C': C,\n",
    "        'Accuracy': accuracy,\n",
    "        'Precision': precision,\n",
    "        'Recall': recall,\n",
    "        'F1-score': f1\n",
    "    })"
   ]
  },
  {
   "cell_type": "code",
   "execution_count": 15,
   "metadata": {},
   "outputs": [
    {
     "data": {
      "text/html": [
       "<div>\n",
       "<style scoped>\n",
       "    .dataframe tbody tr th:only-of-type {\n",
       "        vertical-align: middle;\n",
       "    }\n",
       "\n",
       "    .dataframe tbody tr th {\n",
       "        vertical-align: top;\n",
       "    }\n",
       "\n",
       "    .dataframe thead th {\n",
       "        text-align: right;\n",
       "    }\n",
       "</style>\n",
       "<table border=\"1\" class=\"dataframe\">\n",
       "  <thead>\n",
       "    <tr style=\"text-align: right;\">\n",
       "      <th></th>\n",
       "      <th>C</th>\n",
       "      <th>Accuracy</th>\n",
       "      <th>Precision</th>\n",
       "      <th>Recall</th>\n",
       "      <th>F1-score</th>\n",
       "    </tr>\n",
       "  </thead>\n",
       "  <tbody>\n",
       "    <tr>\n",
       "      <th>4</th>\n",
       "      <td>0.464159</td>\n",
       "      <td>0.892697</td>\n",
       "      <td>0.790698</td>\n",
       "      <td>0.557377</td>\n",
       "      <td>0.653846</td>\n",
       "    </tr>\n",
       "    <tr>\n",
       "      <th>3</th>\n",
       "      <td>0.100000</td>\n",
       "      <td>0.891207</td>\n",
       "      <td>0.788235</td>\n",
       "      <td>0.549180</td>\n",
       "      <td>0.647343</td>\n",
       "    </tr>\n",
       "    <tr>\n",
       "      <th>5</th>\n",
       "      <td>2.154435</td>\n",
       "      <td>0.888227</td>\n",
       "      <td>0.758242</td>\n",
       "      <td>0.565574</td>\n",
       "      <td>0.647887</td>\n",
       "    </tr>\n",
       "    <tr>\n",
       "      <th>6</th>\n",
       "      <td>10.000000</td>\n",
       "      <td>0.888227</td>\n",
       "      <td>0.758242</td>\n",
       "      <td>0.565574</td>\n",
       "      <td>0.647887</td>\n",
       "    </tr>\n",
       "    <tr>\n",
       "      <th>7</th>\n",
       "      <td>46.415888</td>\n",
       "      <td>0.888227</td>\n",
       "      <td>0.758242</td>\n",
       "      <td>0.565574</td>\n",
       "      <td>0.647887</td>\n",
       "    </tr>\n",
       "    <tr>\n",
       "      <th>8</th>\n",
       "      <td>215.443469</td>\n",
       "      <td>0.888227</td>\n",
       "      <td>0.758242</td>\n",
       "      <td>0.565574</td>\n",
       "      <td>0.647887</td>\n",
       "    </tr>\n",
       "    <tr>\n",
       "      <th>9</th>\n",
       "      <td>1000.000000</td>\n",
       "      <td>0.888227</td>\n",
       "      <td>0.758242</td>\n",
       "      <td>0.565574</td>\n",
       "      <td>0.647887</td>\n",
       "    </tr>\n",
       "    <tr>\n",
       "      <th>2</th>\n",
       "      <td>0.021544</td>\n",
       "      <td>0.886736</td>\n",
       "      <td>0.828571</td>\n",
       "      <td>0.475410</td>\n",
       "      <td>0.604167</td>\n",
       "    </tr>\n",
       "    <tr>\n",
       "      <th>1</th>\n",
       "      <td>0.004642</td>\n",
       "      <td>0.876304</td>\n",
       "      <td>0.914894</td>\n",
       "      <td>0.352459</td>\n",
       "      <td>0.508876</td>\n",
       "    </tr>\n",
       "    <tr>\n",
       "      <th>0</th>\n",
       "      <td>0.001000</td>\n",
       "      <td>0.825633</td>\n",
       "      <td>0.857143</td>\n",
       "      <td>0.049180</td>\n",
       "      <td>0.093023</td>\n",
       "    </tr>\n",
       "  </tbody>\n",
       "</table>\n",
       "</div>"
      ],
      "text/plain": [
       "             C  Accuracy  Precision    Recall  F1-score\n",
       "4     0.464159  0.892697   0.790698  0.557377  0.653846\n",
       "3     0.100000  0.891207   0.788235  0.549180  0.647343\n",
       "5     2.154435  0.888227   0.758242  0.565574  0.647887\n",
       "6    10.000000  0.888227   0.758242  0.565574  0.647887\n",
       "7    46.415888  0.888227   0.758242  0.565574  0.647887\n",
       "8   215.443469  0.888227   0.758242  0.565574  0.647887\n",
       "9  1000.000000  0.888227   0.758242  0.565574  0.647887\n",
       "2     0.021544  0.886736   0.828571  0.475410  0.604167\n",
       "1     0.004642  0.876304   0.914894  0.352459  0.508876\n",
       "0     0.001000  0.825633   0.857143  0.049180  0.093023"
      ]
     },
     "execution_count": 15,
     "metadata": {},
     "output_type": "execute_result"
    }
   ],
   "source": [
    "res_df = pd.DataFrame(res)\n",
    "sorted_df = res_df.sort_values('Accuracy', ascending=False)\n",
    "sorted_df"
   ]
  },
  {
   "cell_type": "code",
   "execution_count": 16,
   "metadata": {},
   "outputs": [
    {
     "data": {
      "text/plain": [
       "C            0.464159\n",
       "Accuracy     0.892697\n",
       "Precision    0.790698\n",
       "Recall       0.557377\n",
       "F1-score     0.653846\n",
       "Name: 4, dtype: float64"
      ]
     },
     "execution_count": 16,
     "metadata": {},
     "output_type": "execute_result"
    }
   ],
   "source": [
    "res_df.iloc[res_df.Accuracy.argmax()]"
   ]
  },
  {
   "cell_type": "code",
   "execution_count": 17,
   "metadata": {},
   "outputs": [],
   "source": [
    "C = 0.892697"
   ]
  },
  {
   "cell_type": "code",
   "execution_count": 18,
   "metadata": {},
   "outputs": [
    {
     "name": "stdout",
     "output_type": "stream",
     "text": [
      "Logistic Regression, C=0.892697\n",
      "VAL: accuracy_val=0.8897168405365127, precision_val=0.7666666666666667\n",
      "TEST: accuracy_test=0.90608228980322, precision_test=0.7443609022556391\n"
     ]
    },
    {
     "name": "stderr",
     "output_type": "stream",
     "text": [
      "C:\\Users\\Leonardo\\AppData\\Local\\Packages\\PythonSoftwareFoundation.Python.3.11_qbz5n2kfra8p0\\LocalCache\\local-packages\\Python311\\site-packages\\sklearn\\utils\\validation.py:1143: DataConversionWarning: A column-vector y was passed when a 1d array was expected. Please change the shape of y to (n_samples, ), for example using ravel().\n",
      "  y = column_or_1d(y, warn=True)\n"
     ]
    }
   ],
   "source": [
    "print(f'Logistic Regression, {C=}')\n",
    "clf = LogisticRegression(C=C)\n",
    "scaler = StandardScaler()\n",
    "\n",
    "x_train_scaled = scaler.fit_transform(x_train)\n",
    "clf.fit(x_train_scaled, y_train)\n",
    "\n",
    "x_val_scaled = scaler.transform(x_val)\n",
    "y_hat_val = clf.predict(x_val_scaled)\n",
    "accuracy_val = accuracy_score(y_val, y_hat_val)\n",
    "precision_val = precision_score(y_val, y_hat_val)\n",
    "print(f'VAL: {accuracy_val=}, {precision_val=}')\n",
    "\n",
    "x_test_scaled = scaler.transform(x_test)\n",
    "y_hat_test = clf.predict(x_test_scaled)\n",
    "accuracy_test = accuracy_score(y_test, y_hat_test)\n",
    "precision_test = precision_score(y_test, y_hat_test)\n",
    "print(f'TEST: {accuracy_test=}, {precision_test=}')"
   ]
  },
  {
   "cell_type": "code",
   "execution_count": 19,
   "metadata": {},
   "outputs": [],
   "source": [
    "confusion_val = confusion_matrix(y_val, y_hat_val)\n",
    "confusion_test = confusion_matrix(y_test, y_hat_test)"
   ]
  },
  {
   "cell_type": "code",
   "execution_count": 20,
   "metadata": {},
   "outputs": [
    {
     "name": "stdout",
     "output_type": "stream",
     "text": [
      "[[528  21]\n",
      " [ 53  69]]\n"
     ]
    }
   ],
   "source": [
    "print(confusion_val)"
   ]
  },
  {
   "cell_type": "code",
   "execution_count": 21,
   "metadata": {},
   "outputs": [
    {
     "name": "stdout",
     "output_type": "stream",
     "text": [
      "[[914  34]\n",
      " [ 71  99]]\n"
     ]
    }
   ],
   "source": [
    "print(confusion_test)"
   ]
  }
 ],
 "metadata": {
  "kernelspec": {
   "display_name": "Python 3",
   "language": "python",
   "name": "python3"
  },
  "language_info": {
   "codemirror_mode": {
    "name": "ipython",
    "version": 3
   },
   "file_extension": ".py",
   "mimetype": "text/x-python",
   "name": "python",
   "nbconvert_exporter": "python",
   "pygments_lexer": "ipython3",
   "version": "3.11.3"
  },
  "orig_nbformat": 4
 },
 "nbformat": 4,
 "nbformat_minor": 2
}
