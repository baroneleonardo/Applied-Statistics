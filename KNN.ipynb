{
 "cells": [
  {
   "cell_type": "code",
   "execution_count": 1,
   "metadata": {},
   "outputs": [],
   "source": [
    "import numpy as np\n",
    "import pandas as pd\n",
    "import matplotlib.pyplot as plt\n",
    "from sklearn.preprocessing import StandardScaler\n",
    "from sklearn import preprocessing\n",
    "from sklearn.model_selection import train_test_split\n",
    "import seaborn as sns\n",
    "from scipy import stats\n",
    "from sklearn.model_selection import GridSearchCV\n",
    "from sklearn.svm import SVC\n",
    "from sklearn.metrics import accuracy_score, precision_score, recall_score, f1_score, confusion_matrix\n",
    "from sklearn.neighbors import KNeighborsClassifier\n",
    "seed=42"
   ]
  },
  {
   "cell_type": "code",
   "execution_count": 2,
   "metadata": {},
   "outputs": [],
   "source": [
    "data = pd.read_csv(\"DataGood.csv\")\n",
    "data = data.drop(['NB1'], axis = 1)\n",
    "data = data.drop(['NB2'], axis = 1)\n",
    "data = data.drop(['CLIENTNUM'], axis = 1)"
   ]
  },
  {
   "cell_type": "code",
   "execution_count": 3,
   "metadata": {},
   "outputs": [],
   "source": [
    "x = data.drop(['Attrition_Flag'], axis = 1)\n",
    "y = pd.DataFrame(data['Attrition_Flag'])\n",
    "\n",
    "categorical_columns = ['Gender', 'Education_Level', 'Marital_Status', 'Income_Category', 'Card_Category']\n",
    "x_encoded = pd.get_dummies(x, columns=categorical_columns)"
   ]
  },
  {
   "cell_type": "code",
   "execution_count": 4,
   "metadata": {},
   "outputs": [],
   "source": [
    "x_train, x_test, y_train, y_test = train_test_split(x_encoded, y, test_size=0.2, random_state=seed, shuffle=True)\n",
    "\n",
    "x_train, x_val, y_train, y_val = train_test_split(x_train, y_train, test_size=0.15, random_state=seed, shuffle=True)"
   ]
  },
  {
   "cell_type": "code",
   "execution_count": 5,
   "metadata": {},
   "outputs": [
    {
     "name": "stdout",
     "output_type": "stream",
     "text": [
      "K-Nearest Neighbors\n",
      "Accuracy: 0.87\n",
      "Confusion Matrix:\n",
      "[[542   7]\n",
      " [ 80  42]]\n"
     ]
    },
    {
     "name": "stderr",
     "output_type": "stream",
     "text": [
      "C:\\Users\\Leonardo\\AppData\\Local\\Packages\\PythonSoftwareFoundation.Python.3.11_qbz5n2kfra8p0\\LocalCache\\local-packages\\Python311\\site-packages\\sklearn\\neighbors\\_classification.py:215: DataConversionWarning: A column-vector y was passed when a 1d array was expected. Please change the shape of y to (n_samples,), for example using ravel().\n",
      "  return self._fit(X, y)\n"
     ]
    }
   ],
   "source": [
    "print('K-Nearest Neighbors')\n",
    "clf = KNeighborsClassifier()\n",
    "scaler = StandardScaler()\n",
    "\n",
    "x_train_scaled = scaler.fit_transform(x_train)\n",
    "clf.fit(x_train_scaled, y_train)\n",
    "\n",
    "x_val_scaled = scaler.transform(x_val)\n",
    "y_hat = clf.predict(x_val_scaled)\n",
    "\n",
    "accuracy = accuracy_score(y_val, y_hat)\n",
    "confusion = confusion_matrix(y_val, y_hat)\n",
    "\n",
    "print(f'Accuracy: {accuracy:.2f}')\n",
    "print('Confusion Matrix:')\n",
    "print(confusion)"
   ]
  },
  {
   "cell_type": "code",
   "execution_count": 6,
   "metadata": {},
   "outputs": [
    {
     "name": "stderr",
     "output_type": "stream",
     "text": [
      "C:\\Users\\Leonardo\\AppData\\Local\\Packages\\PythonSoftwareFoundation.Python.3.11_qbz5n2kfra8p0\\LocalCache\\local-packages\\Python311\\site-packages\\sklearn\\neighbors\\_classification.py:215: DataConversionWarning: A column-vector y was passed when a 1d array was expected. Please change the shape of y to (n_samples,), for example using ravel().\n",
      "  return self._fit(X, y)\n",
      "C:\\Users\\Leonardo\\AppData\\Local\\Packages\\PythonSoftwareFoundation.Python.3.11_qbz5n2kfra8p0\\LocalCache\\local-packages\\Python311\\site-packages\\sklearn\\neighbors\\_classification.py:215: DataConversionWarning: A column-vector y was passed when a 1d array was expected. Please change the shape of y to (n_samples,), for example using ravel().\n",
      "  return self._fit(X, y)\n",
      "C:\\Users\\Leonardo\\AppData\\Local\\Packages\\PythonSoftwareFoundation.Python.3.11_qbz5n2kfra8p0\\LocalCache\\local-packages\\Python311\\site-packages\\sklearn\\neighbors\\_classification.py:215: DataConversionWarning: A column-vector y was passed when a 1d array was expected. Please change the shape of y to (n_samples,), for example using ravel().\n",
      "  return self._fit(X, y)\n",
      "C:\\Users\\Leonardo\\AppData\\Local\\Packages\\PythonSoftwareFoundation.Python.3.11_qbz5n2kfra8p0\\LocalCache\\local-packages\\Python311\\site-packages\\sklearn\\neighbors\\_classification.py:215: DataConversionWarning: A column-vector y was passed when a 1d array was expected. Please change the shape of y to (n_samples,), for example using ravel().\n",
      "  return self._fit(X, y)\n"
     ]
    },
    {
     "name": "stdout",
     "output_type": "stream",
     "text": [
      "n_neighbors=1, weights='uniform', accuracy=0.8524590163934426, precision=0.6236559139784946, recall=0.47540983606557374, f1=0.5395348837209303\n",
      "n_neighbors=1, weights='distance', accuracy=0.8524590163934426, precision=0.6236559139784946, recall=0.47540983606557374, f1=0.5395348837209303\n",
      "n_neighbors=2, weights='uniform', accuracy=0.8524590163934426, precision=0.8108108108108109, recall=0.2459016393442623, f1=0.37735849056603776\n",
      "n_neighbors=2, weights='distance', accuracy=0.8524590163934426, precision=0.6236559139784946, recall=0.47540983606557374, f1=0.5395348837209303\n"
     ]
    },
    {
     "name": "stderr",
     "output_type": "stream",
     "text": [
      "C:\\Users\\Leonardo\\AppData\\Local\\Packages\\PythonSoftwareFoundation.Python.3.11_qbz5n2kfra8p0\\LocalCache\\local-packages\\Python311\\site-packages\\sklearn\\neighbors\\_classification.py:215: DataConversionWarning: A column-vector y was passed when a 1d array was expected. Please change the shape of y to (n_samples,), for example using ravel().\n",
      "  return self._fit(X, y)\n",
      "C:\\Users\\Leonardo\\AppData\\Local\\Packages\\PythonSoftwareFoundation.Python.3.11_qbz5n2kfra8p0\\LocalCache\\local-packages\\Python311\\site-packages\\sklearn\\neighbors\\_classification.py:215: DataConversionWarning: A column-vector y was passed when a 1d array was expected. Please change the shape of y to (n_samples,), for example using ravel().\n",
      "  return self._fit(X, y)\n",
      "C:\\Users\\Leonardo\\AppData\\Local\\Packages\\PythonSoftwareFoundation.Python.3.11_qbz5n2kfra8p0\\LocalCache\\local-packages\\Python311\\site-packages\\sklearn\\neighbors\\_classification.py:215: DataConversionWarning: A column-vector y was passed when a 1d array was expected. Please change the shape of y to (n_samples,), for example using ravel().\n",
      "  return self._fit(X, y)\n",
      "C:\\Users\\Leonardo\\AppData\\Local\\Packages\\PythonSoftwareFoundation.Python.3.11_qbz5n2kfra8p0\\LocalCache\\local-packages\\Python311\\site-packages\\sklearn\\neighbors\\_classification.py:215: DataConversionWarning: A column-vector y was passed when a 1d array was expected. Please change the shape of y to (n_samples,), for example using ravel().\n",
      "  return self._fit(X, y)\n",
      "C:\\Users\\Leonardo\\AppData\\Local\\Packages\\PythonSoftwareFoundation.Python.3.11_qbz5n2kfra8p0\\LocalCache\\local-packages\\Python311\\site-packages\\sklearn\\neighbors\\_classification.py:215: DataConversionWarning: A column-vector y was passed when a 1d array was expected. Please change the shape of y to (n_samples,), for example using ravel().\n",
      "  return self._fit(X, y)\n"
     ]
    },
    {
     "name": "stdout",
     "output_type": "stream",
     "text": [
      "n_neighbors=3, weights='uniform', accuracy=0.8703427719821163, precision=0.8070175438596491, recall=0.3770491803278688, f1=0.5139664804469273\n",
      "n_neighbors=3, weights='distance', accuracy=0.8703427719821163, precision=0.8070175438596491, recall=0.3770491803278688, f1=0.5139664804469273\n",
      "n_neighbors=4, weights='uniform', accuracy=0.8509687034277198, precision=0.8235294117647058, recall=0.22950819672131148, f1=0.358974358974359\n",
      "n_neighbors=4, weights='distance', accuracy=0.8748137108792846, precision=0.8064516129032258, recall=0.4098360655737705, f1=0.5434782608695652\n",
      "n_neighbors=5, weights='uniform', accuracy=0.8703427719821163, precision=0.8571428571428571, recall=0.3442622950819672, f1=0.49122807017543857\n",
      "n_neighbors=5, weights='distance', accuracy=0.8703427719821163, precision=0.8571428571428571, recall=0.3442622950819672, f1=0.49122807017543857\n",
      "n_neighbors=6, weights='uniform', accuracy=0.8464977645305514, precision=0.8275862068965517, recall=0.19672131147540983, f1=0.3178807947019867\n",
      "n_neighbors=6, weights='distance', accuracy=0.8703427719821163, precision=0.8301886792452831, recall=0.36065573770491804, f1=0.5028571428571429\n",
      "n_neighbors=7, weights='uniform', accuracy=0.8554396423248882, precision=0.8048780487804879, recall=0.27049180327868855, f1=0.40490797546012275\n"
     ]
    },
    {
     "name": "stderr",
     "output_type": "stream",
     "text": [
      "C:\\Users\\Leonardo\\AppData\\Local\\Packages\\PythonSoftwareFoundation.Python.3.11_qbz5n2kfra8p0\\LocalCache\\local-packages\\Python311\\site-packages\\sklearn\\neighbors\\_classification.py:215: DataConversionWarning: A column-vector y was passed when a 1d array was expected. Please change the shape of y to (n_samples,), for example using ravel().\n",
      "  return self._fit(X, y)\n",
      "C:\\Users\\Leonardo\\AppData\\Local\\Packages\\PythonSoftwareFoundation.Python.3.11_qbz5n2kfra8p0\\LocalCache\\local-packages\\Python311\\site-packages\\sklearn\\neighbors\\_classification.py:215: DataConversionWarning: A column-vector y was passed when a 1d array was expected. Please change the shape of y to (n_samples,), for example using ravel().\n",
      "  return self._fit(X, y)\n",
      "C:\\Users\\Leonardo\\AppData\\Local\\Packages\\PythonSoftwareFoundation.Python.3.11_qbz5n2kfra8p0\\LocalCache\\local-packages\\Python311\\site-packages\\sklearn\\neighbors\\_classification.py:215: DataConversionWarning: A column-vector y was passed when a 1d array was expected. Please change the shape of y to (n_samples,), for example using ravel().\n",
      "  return self._fit(X, y)\n",
      "C:\\Users\\Leonardo\\AppData\\Local\\Packages\\PythonSoftwareFoundation.Python.3.11_qbz5n2kfra8p0\\LocalCache\\local-packages\\Python311\\site-packages\\sklearn\\neighbors\\_classification.py:215: DataConversionWarning: A column-vector y was passed when a 1d array was expected. Please change the shape of y to (n_samples,), for example using ravel().\n",
      "  return self._fit(X, y)\n",
      "C:\\Users\\Leonardo\\AppData\\Local\\Packages\\PythonSoftwareFoundation.Python.3.11_qbz5n2kfra8p0\\LocalCache\\local-packages\\Python311\\site-packages\\sklearn\\neighbors\\_classification.py:215: DataConversionWarning: A column-vector y was passed when a 1d array was expected. Please change the shape of y to (n_samples,), for example using ravel().\n",
      "  return self._fit(X, y)\n",
      "C:\\Users\\Leonardo\\AppData\\Local\\Packages\\PythonSoftwareFoundation.Python.3.11_qbz5n2kfra8p0\\LocalCache\\local-packages\\Python311\\site-packages\\sklearn\\neighbors\\_classification.py:215: DataConversionWarning: A column-vector y was passed when a 1d array was expected. Please change the shape of y to (n_samples,), for example using ravel().\n",
      "  return self._fit(X, y)\n",
      "C:\\Users\\Leonardo\\AppData\\Local\\Packages\\PythonSoftwareFoundation.Python.3.11_qbz5n2kfra8p0\\LocalCache\\local-packages\\Python311\\site-packages\\sklearn\\neighbors\\_classification.py:215: DataConversionWarning: A column-vector y was passed when a 1d array was expected. Please change the shape of y to (n_samples,), for example using ravel().\n",
      "  return self._fit(X, y)\n",
      "C:\\Users\\Leonardo\\AppData\\Local\\Packages\\PythonSoftwareFoundation.Python.3.11_qbz5n2kfra8p0\\LocalCache\\local-packages\\Python311\\site-packages\\sklearn\\neighbors\\_classification.py:215: DataConversionWarning: A column-vector y was passed when a 1d array was expected. Please change the shape of y to (n_samples,), for example using ravel().\n",
      "  return self._fit(X, y)\n",
      "C:\\Users\\Leonardo\\AppData\\Local\\Packages\\PythonSoftwareFoundation.Python.3.11_qbz5n2kfra8p0\\LocalCache\\local-packages\\Python311\\site-packages\\sklearn\\neighbors\\_classification.py:215: DataConversionWarning: A column-vector y was passed when a 1d array was expected. Please change the shape of y to (n_samples,), for example using ravel().\n",
      "  return self._fit(X, y)\n"
     ]
    },
    {
     "name": "stdout",
     "output_type": "stream",
     "text": [
      "n_neighbors=7, weights='distance', accuracy=0.856929955290611, precision=0.8095238095238095, recall=0.2786885245901639, f1=0.4146341463414634\n",
      "n_neighbors=8, weights='uniform', accuracy=0.8479880774962743, precision=0.8846153846153846, recall=0.1885245901639344, f1=0.3108108108108108\n",
      "n_neighbors=8, weights='distance', accuracy=0.8658718330849479, precision=0.8333333333333334, recall=0.32786885245901637, f1=0.4705882352941176\n",
      "n_neighbors=9, weights='uniform', accuracy=0.856929955290611, precision=0.8611111111111112, recall=0.2540983606557377, f1=0.3924050632911393\n",
      "n_neighbors=9, weights='distance', accuracy=0.856929955290611, precision=0.8611111111111112, recall=0.2540983606557377, f1=0.3924050632911393\n",
      "n_neighbors=10, weights='uniform', accuracy=0.8464977645305514, precision=0.88, recall=0.18032786885245902, f1=0.29931972789115646\n",
      "n_neighbors=10, weights='distance', accuracy=0.8673621460506706, precision=0.8837209302325582, recall=0.3114754098360656, f1=0.4606060606060607\n"
     ]
    },
    {
     "name": "stderr",
     "output_type": "stream",
     "text": [
      "C:\\Users\\Leonardo\\AppData\\Local\\Packages\\PythonSoftwareFoundation.Python.3.11_qbz5n2kfra8p0\\LocalCache\\local-packages\\Python311\\site-packages\\sklearn\\neighbors\\_classification.py:215: DataConversionWarning: A column-vector y was passed when a 1d array was expected. Please change the shape of y to (n_samples,), for example using ravel().\n",
      "  return self._fit(X, y)\n",
      "C:\\Users\\Leonardo\\AppData\\Local\\Packages\\PythonSoftwareFoundation.Python.3.11_qbz5n2kfra8p0\\LocalCache\\local-packages\\Python311\\site-packages\\sklearn\\neighbors\\_classification.py:215: DataConversionWarning: A column-vector y was passed when a 1d array was expected. Please change the shape of y to (n_samples,), for example using ravel().\n",
      "  return self._fit(X, y)\n"
     ]
    }
   ],
   "source": [
    "res=[]\n",
    "for n_neighbors in range(1, 11):\n",
    "    for weights in ['uniform', 'distance']:\n",
    "        clf = KNeighborsClassifier(n_neighbors=n_neighbors, weights=weights)\n",
    "        scaler = StandardScaler()\n",
    "\n",
    "        x_train_scaled = scaler.fit_transform(x_train)\n",
    "        clf.fit(x_train_scaled, y_train)\n",
    "        y_hat = clf.predict(scaler.transform(x_val))\n",
    "\n",
    "        accuracy = accuracy_score(y_val, y_hat)\n",
    "        precision = precision_score(y_val, y_hat)\n",
    "        recall = recall_score(y_val, y_hat)\n",
    "        f1 = f1_score(y_val, y_hat)\n",
    "\n",
    "        print(f'{n_neighbors=}, {weights=}, {accuracy=}, {precision=}, {recall=}, {f1=}')\n",
    "        res.append({\n",
    "            'n_neighbors': n_neighbors,\n",
    "            'weights': weights,\n",
    "            'Accuracy': accuracy,\n",
    "            'Precision': precision,\n",
    "            'Recall': recall,\n",
    "            'F1-score': f1\n",
    "        })"
   ]
  },
  {
   "cell_type": "code",
   "execution_count": 7,
   "metadata": {},
   "outputs": [
    {
     "data": {
      "text/html": [
       "<div>\n",
       "<style scoped>\n",
       "    .dataframe tbody tr th:only-of-type {\n",
       "        vertical-align: middle;\n",
       "    }\n",
       "\n",
       "    .dataframe tbody tr th {\n",
       "        vertical-align: top;\n",
       "    }\n",
       "\n",
       "    .dataframe thead th {\n",
       "        text-align: right;\n",
       "    }\n",
       "</style>\n",
       "<table border=\"1\" class=\"dataframe\">\n",
       "  <thead>\n",
       "    <tr style=\"text-align: right;\">\n",
       "      <th></th>\n",
       "      <th>n_neighbors</th>\n",
       "      <th>weights</th>\n",
       "      <th>Accuracy</th>\n",
       "      <th>Precision</th>\n",
       "      <th>Recall</th>\n",
       "      <th>F1-score</th>\n",
       "    </tr>\n",
       "  </thead>\n",
       "  <tbody>\n",
       "    <tr>\n",
       "      <th>7</th>\n",
       "      <td>4</td>\n",
       "      <td>distance</td>\n",
       "      <td>0.874814</td>\n",
       "      <td>0.806452</td>\n",
       "      <td>0.409836</td>\n",
       "      <td>0.543478</td>\n",
       "    </tr>\n",
       "    <tr>\n",
       "      <th>4</th>\n",
       "      <td>3</td>\n",
       "      <td>uniform</td>\n",
       "      <td>0.870343</td>\n",
       "      <td>0.807018</td>\n",
       "      <td>0.377049</td>\n",
       "      <td>0.513966</td>\n",
       "    </tr>\n",
       "    <tr>\n",
       "      <th>5</th>\n",
       "      <td>3</td>\n",
       "      <td>distance</td>\n",
       "      <td>0.870343</td>\n",
       "      <td>0.807018</td>\n",
       "      <td>0.377049</td>\n",
       "      <td>0.513966</td>\n",
       "    </tr>\n",
       "    <tr>\n",
       "      <th>8</th>\n",
       "      <td>5</td>\n",
       "      <td>uniform</td>\n",
       "      <td>0.870343</td>\n",
       "      <td>0.857143</td>\n",
       "      <td>0.344262</td>\n",
       "      <td>0.491228</td>\n",
       "    </tr>\n",
       "    <tr>\n",
       "      <th>9</th>\n",
       "      <td>5</td>\n",
       "      <td>distance</td>\n",
       "      <td>0.870343</td>\n",
       "      <td>0.857143</td>\n",
       "      <td>0.344262</td>\n",
       "      <td>0.491228</td>\n",
       "    </tr>\n",
       "    <tr>\n",
       "      <th>11</th>\n",
       "      <td>6</td>\n",
       "      <td>distance</td>\n",
       "      <td>0.870343</td>\n",
       "      <td>0.830189</td>\n",
       "      <td>0.360656</td>\n",
       "      <td>0.502857</td>\n",
       "    </tr>\n",
       "    <tr>\n",
       "      <th>19</th>\n",
       "      <td>10</td>\n",
       "      <td>distance</td>\n",
       "      <td>0.867362</td>\n",
       "      <td>0.883721</td>\n",
       "      <td>0.311475</td>\n",
       "      <td>0.460606</td>\n",
       "    </tr>\n",
       "    <tr>\n",
       "      <th>15</th>\n",
       "      <td>8</td>\n",
       "      <td>distance</td>\n",
       "      <td>0.865872</td>\n",
       "      <td>0.833333</td>\n",
       "      <td>0.327869</td>\n",
       "      <td>0.470588</td>\n",
       "    </tr>\n",
       "    <tr>\n",
       "      <th>17</th>\n",
       "      <td>9</td>\n",
       "      <td>distance</td>\n",
       "      <td>0.856930</td>\n",
       "      <td>0.861111</td>\n",
       "      <td>0.254098</td>\n",
       "      <td>0.392405</td>\n",
       "    </tr>\n",
       "    <tr>\n",
       "      <th>16</th>\n",
       "      <td>9</td>\n",
       "      <td>uniform</td>\n",
       "      <td>0.856930</td>\n",
       "      <td>0.861111</td>\n",
       "      <td>0.254098</td>\n",
       "      <td>0.392405</td>\n",
       "    </tr>\n",
       "    <tr>\n",
       "      <th>13</th>\n",
       "      <td>7</td>\n",
       "      <td>distance</td>\n",
       "      <td>0.856930</td>\n",
       "      <td>0.809524</td>\n",
       "      <td>0.278689</td>\n",
       "      <td>0.414634</td>\n",
       "    </tr>\n",
       "    <tr>\n",
       "      <th>12</th>\n",
       "      <td>7</td>\n",
       "      <td>uniform</td>\n",
       "      <td>0.855440</td>\n",
       "      <td>0.804878</td>\n",
       "      <td>0.270492</td>\n",
       "      <td>0.404908</td>\n",
       "    </tr>\n",
       "    <tr>\n",
       "      <th>0</th>\n",
       "      <td>1</td>\n",
       "      <td>uniform</td>\n",
       "      <td>0.852459</td>\n",
       "      <td>0.623656</td>\n",
       "      <td>0.475410</td>\n",
       "      <td>0.539535</td>\n",
       "    </tr>\n",
       "    <tr>\n",
       "      <th>1</th>\n",
       "      <td>1</td>\n",
       "      <td>distance</td>\n",
       "      <td>0.852459</td>\n",
       "      <td>0.623656</td>\n",
       "      <td>0.475410</td>\n",
       "      <td>0.539535</td>\n",
       "    </tr>\n",
       "    <tr>\n",
       "      <th>3</th>\n",
       "      <td>2</td>\n",
       "      <td>distance</td>\n",
       "      <td>0.852459</td>\n",
       "      <td>0.623656</td>\n",
       "      <td>0.475410</td>\n",
       "      <td>0.539535</td>\n",
       "    </tr>\n",
       "    <tr>\n",
       "      <th>2</th>\n",
       "      <td>2</td>\n",
       "      <td>uniform</td>\n",
       "      <td>0.852459</td>\n",
       "      <td>0.810811</td>\n",
       "      <td>0.245902</td>\n",
       "      <td>0.377358</td>\n",
       "    </tr>\n",
       "    <tr>\n",
       "      <th>6</th>\n",
       "      <td>4</td>\n",
       "      <td>uniform</td>\n",
       "      <td>0.850969</td>\n",
       "      <td>0.823529</td>\n",
       "      <td>0.229508</td>\n",
       "      <td>0.358974</td>\n",
       "    </tr>\n",
       "    <tr>\n",
       "      <th>14</th>\n",
       "      <td>8</td>\n",
       "      <td>uniform</td>\n",
       "      <td>0.847988</td>\n",
       "      <td>0.884615</td>\n",
       "      <td>0.188525</td>\n",
       "      <td>0.310811</td>\n",
       "    </tr>\n",
       "    <tr>\n",
       "      <th>18</th>\n",
       "      <td>10</td>\n",
       "      <td>uniform</td>\n",
       "      <td>0.846498</td>\n",
       "      <td>0.880000</td>\n",
       "      <td>0.180328</td>\n",
       "      <td>0.299320</td>\n",
       "    </tr>\n",
       "    <tr>\n",
       "      <th>10</th>\n",
       "      <td>6</td>\n",
       "      <td>uniform</td>\n",
       "      <td>0.846498</td>\n",
       "      <td>0.827586</td>\n",
       "      <td>0.196721</td>\n",
       "      <td>0.317881</td>\n",
       "    </tr>\n",
       "  </tbody>\n",
       "</table>\n",
       "</div>"
      ],
      "text/plain": [
       "    n_neighbors   weights  Accuracy  Precision    Recall  F1-score\n",
       "7             4  distance  0.874814   0.806452  0.409836  0.543478\n",
       "4             3   uniform  0.870343   0.807018  0.377049  0.513966\n",
       "5             3  distance  0.870343   0.807018  0.377049  0.513966\n",
       "8             5   uniform  0.870343   0.857143  0.344262  0.491228\n",
       "9             5  distance  0.870343   0.857143  0.344262  0.491228\n",
       "11            6  distance  0.870343   0.830189  0.360656  0.502857\n",
       "19           10  distance  0.867362   0.883721  0.311475  0.460606\n",
       "15            8  distance  0.865872   0.833333  0.327869  0.470588\n",
       "17            9  distance  0.856930   0.861111  0.254098  0.392405\n",
       "16            9   uniform  0.856930   0.861111  0.254098  0.392405\n",
       "13            7  distance  0.856930   0.809524  0.278689  0.414634\n",
       "12            7   uniform  0.855440   0.804878  0.270492  0.404908\n",
       "0             1   uniform  0.852459   0.623656  0.475410  0.539535\n",
       "1             1  distance  0.852459   0.623656  0.475410  0.539535\n",
       "3             2  distance  0.852459   0.623656  0.475410  0.539535\n",
       "2             2   uniform  0.852459   0.810811  0.245902  0.377358\n",
       "6             4   uniform  0.850969   0.823529  0.229508  0.358974\n",
       "14            8   uniform  0.847988   0.884615  0.188525  0.310811\n",
       "18           10   uniform  0.846498   0.880000  0.180328  0.299320\n",
       "10            6   uniform  0.846498   0.827586  0.196721  0.317881"
      ]
     },
     "execution_count": 7,
     "metadata": {},
     "output_type": "execute_result"
    }
   ],
   "source": [
    "res_df = pd.DataFrame(res)\n",
    "sorted_df = res_df.sort_values('Accuracy', ascending=False)\n",
    "sorted_df"
   ]
  },
  {
   "cell_type": "code",
   "execution_count": 8,
   "metadata": {},
   "outputs": [
    {
     "data": {
      "text/plain": [
       "n_neighbors           4\n",
       "weights        distance\n",
       "Accuracy       0.874814\n",
       "Precision      0.806452\n",
       "Recall         0.409836\n",
       "F1-score       0.543478\n",
       "Name: 7, dtype: object"
      ]
     },
     "execution_count": 8,
     "metadata": {},
     "output_type": "execute_result"
    }
   ],
   "source": [
    "res_df.iloc[res_df.Accuracy.argmax()]"
   ]
  },
  {
   "cell_type": "code",
   "execution_count": 9,
   "metadata": {},
   "outputs": [],
   "source": [
    "n_neighbors=4\n",
    "weights='distance'"
   ]
  },
  {
   "cell_type": "code",
   "execution_count": 10,
   "metadata": {},
   "outputs": [
    {
     "name": "stdout",
     "output_type": "stream",
     "text": [
      "K-Nearest Neighbors, n_neighbors=4, weights='distance'\n",
      "VAL: accuracy_val=0.8748137108792846, precision_val=0.8064516129032258\n",
      "TEST: accuracy_test=0.8756708407871199, precision_test=0.6597938144329897\n"
     ]
    },
    {
     "name": "stderr",
     "output_type": "stream",
     "text": [
      "C:\\Users\\Leonardo\\AppData\\Local\\Packages\\PythonSoftwareFoundation.Python.3.11_qbz5n2kfra8p0\\LocalCache\\local-packages\\Python311\\site-packages\\sklearn\\neighbors\\_classification.py:215: DataConversionWarning: A column-vector y was passed when a 1d array was expected. Please change the shape of y to (n_samples,), for example using ravel().\n",
      "  return self._fit(X, y)\n"
     ]
    }
   ],
   "source": [
    "print(f'K-Nearest Neighbors, {n_neighbors=}, {weights=}')\n",
    "clf = KNeighborsClassifier(n_neighbors=n_neighbors, weights=weights)\n",
    "scaler = StandardScaler()\n",
    "\n",
    "x_train_scaled = scaler.fit_transform(x_train)\n",
    "clf.fit(x_train_scaled, y_train)\n",
    "\n",
    "x_val_scaled = scaler.transform(x_val)\n",
    "y_hat_val = clf.predict(x_val_scaled)\n",
    "accuracy_val = accuracy_score(y_val, y_hat_val)\n",
    "precision_val = precision_score(y_val, y_hat_val)\n",
    "print(f'VAL: {accuracy_val=}, {precision_val=}')\n",
    "\n",
    "x_test_scaled = scaler.transform(x_test)\n",
    "y_hat_test = clf.predict(x_test_scaled)\n",
    "accuracy_test = accuracy_score(y_test, y_hat_test)\n",
    "precision_test = precision_score(y_test, y_hat_test)\n",
    "print(f'TEST: {accuracy_test=}, {precision_test=}')"
   ]
  },
  {
   "cell_type": "code",
   "execution_count": 11,
   "metadata": {},
   "outputs": [],
   "source": [
    "confusion_val = confusion_matrix(y_val, y_hat_val)\n",
    "confusion_test = confusion_matrix(y_test, y_hat_test)"
   ]
  },
  {
   "cell_type": "code",
   "execution_count": 12,
   "metadata": {},
   "outputs": [
    {
     "name": "stdout",
     "output_type": "stream",
     "text": [
      "[[537  12]\n",
      " [ 72  50]]\n"
     ]
    }
   ],
   "source": [
    "print(confusion_val)"
   ]
  },
  {
   "cell_type": "code",
   "execution_count": 13,
   "metadata": {},
   "outputs": [
    {
     "name": "stdout",
     "output_type": "stream",
     "text": [
      "[[915  33]\n",
      " [106  64]]\n"
     ]
    }
   ],
   "source": [
    "print(confusion_test)"
   ]
  }
 ],
 "metadata": {
  "kernelspec": {
   "display_name": "Python 3",
   "language": "python",
   "name": "python3"
  },
  "language_info": {
   "codemirror_mode": {
    "name": "ipython",
    "version": 3
   },
   "file_extension": ".py",
   "mimetype": "text/x-python",
   "name": "python",
   "nbconvert_exporter": "python",
   "pygments_lexer": "ipython3",
   "version": "3.11.3"
  },
  "orig_nbformat": 4
 },
 "nbformat": 4,
 "nbformat_minor": 2
}
